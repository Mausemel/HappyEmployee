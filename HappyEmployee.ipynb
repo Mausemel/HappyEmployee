{
 "cells": [
  {
   "cell_type": "code",
   "execution_count": 233,
   "metadata": {
    "collapsed": true
   },
   "outputs": [],
   "source": [
    "# Date: 17.9.2017\n",
    "# Authors: Bianka Dorova, Melanie Langbein\n",
    "# Use Case / Vision: Scenario 1 - desktop application to detect employee mood in the office \n",
    "#                           and find a way to cheer them up (show a joke or a funny picture) if they are sad \n",
    "#                           or keep them in a good mood by showing a positive note.\n",
    "#                           The solution represents a way to keep employees in good mood and also monitor the \n",
    "#                           level of satisfaction in the office, so that measures can be taken if need and also \n",
    "#                           evaluated. For example, does giving the employees fruits/ chocolate for free have a \n",
    "#                           positive affect on the team, environment?\n",
    "#                    Scenario 2 - extention of sceario 1, where a self moving robot is checking the facial expressions of \n",
    "#                           employees and tries to react appropriately - cheer them up (hug them) or being \n",
    "#                           excited when they seem happy.\n",
    "# Implemeted prototype: Detect mood from a photo and based on the result, make the robot react appropriately.\n",
    "# Prototype limitations: Development done on MacBook with Python 3.6.2 (for this version the libraries to control the camera are supported only for Windows and Linux) therefore we used only a link to a photo from the internet."
   ]
  },
  {
   "cell_type": "code",
   "execution_count": 234,
   "metadata": {
    "collapsed": true
   },
   "outputs": [],
   "source": [
    "#Get the emotions from a picture \n",
    "import http.client, urllib.request, urllib.parse, urllib.error, base64, sys\n",
    "import json\n",
    "\n",
    "# Replace the example URL below with the URL of the image you want to analyze.\n",
    "# Happy pic\n",
    "#body = \"{ 'url': 'http://gazettereview.com/wp-content/uploads/2017/01/jennifer-lopez-snapchat-username.jpg' }\"\n",
    "\n",
    "# Sad pic\n",
    "body = \"{ 'url': 'https://www.askideas.com/media/41/Baby-Crying-Sad-Face-Funny-Image.jpg' }\"\n",
    "\n",
    "# Angry pic\n",
    "#body = \"{ 'url': 'http://i.ndtvimg.com/mt/2014-08/360_anger.jpg' }\"\n",
    "\n",
    "headers = {\n",
    "    # Request headers. Replace the placeholder key below with your subscription key.\n",
    "    'Content-Type': 'application/json',\n",
    "    'Ocp-Apim-Subscription-Key': '8e4041dc87c345909b3eb3c2780ae129',\n",
    "}\n",
    "\n",
    "params = urllib.parse.urlencode({\n",
    "})\n",
    "\n",
    "try:\n",
    "    # NOTE: You must use the same region in your REST call as you used to obtain your subscription keys.\n",
    "    #   For example, if you obtained your subscription keys from westcentralus, replace \"westus\" in the \n",
    "    #   URL below with \"westcentralus\".\n",
    "    conn = http.client.HTTPSConnection('westus.api.cognitive.microsoft.com')\n",
    "    conn.request(\"POST\", \"/emotion/v1.0/recognize?%s\" % params, body, headers)\n",
    "    response = conn.getresponse()\n",
    "    data = response.read()\n",
    "    conn.close()\n",
    "except Exception as e:\n",
    "    print(e.args)"
   ]
  },
  {
   "cell_type": "code",
   "execution_count": 235,
   "metadata": {
    "collapsed": true
   },
   "outputs": [],
   "source": [
    "import json\n",
    "mood_prob = json.loads(data.decode(\"utf-8\"))[0][\"scores\"]\n",
    "max_prob = max(mood_prob.values())\n",
    "face_rec_mood = [k for k, v in mood_prob.items() if v == max_prob][0]"
   ]
  },
  {
   "cell_type": "code",
   "execution_count": 236,
   "metadata": {
    "collapsed": true
   },
   "outputs": [],
   "source": [
    "import requests\n",
    "from requests.auth import HTTPDigestAuth\n",
    "import urllib\n",
    "import time\n",
    "from threading import Thread\n",
    "\n",
    "#Thanks to Phaiax for the code fixing  https://github.com/Phaiax/OhOnlyMusli/tree/master/pytest \n",
    "\n",
    "url = 'http://52.232.40.214/rw'\n",
    "auth = HTTPDigestAuth('Default User', 'robotics')\n",
    "\n",
    "session = requests.session()\n",
    "\n",
    "# Get authenticated\n",
    "r0 = session.get(url + '/rapid/symbol/data/RAPID/'+'T_ROB_R'+'/Remote/bStart?json=1',\n",
    "                   auth=auth)\n",
    "assert(r0.status_code == 200)\n",
    "\n",
    "\n",
    "def check(arm, variable):\n",
    "    r = session.get(url + '/rapid/symbol/data/RAPID/'+arm+'/Remote/'+variable+'?json=1')\n",
    "    #print(r.status_code)\n",
    "    assert(r.status_code == 200)\n",
    "    return r.json()['_embedded']['_state'][0]['value']\n",
    "\n",
    "def checkBool(arm, variable):\n",
    "    return True if check(arm, variable) == \"TRUE\" else False\n",
    "\n",
    "def setString(arm, variable, text):\n",
    "    payload={'value':'\"'+text+'\"'}\n",
    "    r = session.post(url + '/rapid/symbol/data/RAPID/'+arm+'/Remote/'+variable+'?action=set',\n",
    "                     data=payload)\n",
    "    #print(r)\n",
    "    #print(r.text)\n",
    "    assert(r.status_code == 204)\n",
    "    return r\n",
    "\n",
    "def setBool(arm, variable, state):\n",
    "    payload={'value': 'true' if state else 'false' }\n",
    "    r = session.post(url + '/rapid/symbol/data/RAPID/'+arm+'/Remote/'+variable+'?action=set',\n",
    "                     data=payload)\n",
    "    #print(r)\n",
    "    #print(r.text)\n",
    "    assert(r.status_code == 204)\n",
    "    return r\n",
    "\n",
    "def moveRobot(arm,action):\n",
    "    #print(\"RUNNING:\" + check(arm, 'bRunning'))\n",
    "\n",
    "    setString(arm, 'stName', action)\n",
    "\n",
    "    #print(\"bStart:\" + check(arm, 'bStart'))\n",
    "\n",
    "    setBool(arm, 'bStart', True);\n",
    "\n",
    "    #print(\"bStart:\" + check(arm, 'bStart'))\n",
    "    time.sleep(0.5)\n",
    "\n",
    "    running = checkBool(arm, 'bRunning')\n",
    "    while running:\n",
    "        running = checkBool(arm, 'bRunning')\n",
    "        #print(\"RUNNING:\" + str(running))\n",
    "        time.sleep(0.4)\n",
    "\n",
    "    return;\n",
    "\n",
    "# Gestures only available for the right arm:\n",
    "#   Kiss, SayHello, SayNo, ShakingHands, IKillYou\n",
    "# Gestures for both arms:\n",
    "#   Home, Contempt, NoClue, HandsUp, Surprised, ToDiss, Anger, Excited, GiveMeAHug, GoAway, Happy, Powerful, Scared\n",
    "\n",
    "class otherArm_Hug(Thread):\n",
    "    def run(self):\n",
    "        moveRobot('T_ROB_L','GiveMeAHug')\n",
    "\n",
    "class otherArm_Happy(Thread):\n",
    "    def run(self):\n",
    "        moveRobot('T_ROB_L','Happy')"
   ]
  },
  {
   "cell_type": "code",
   "execution_count": 237,
   "metadata": {
    "collapsed": true
   },
   "outputs": [],
   "source": [
    "# API statuses\n",
    "# scores : \"happiness\" -> Happy robot\n",
    "#          \"sadness\"   -> Robot wants to hug\n",
    "#          \"anger\",\"contempt\",\"disgust\",\"fear\",\"neutral\",\"surprise\" -> Robot says hello"
   ]
  },
  {
   "cell_type": "code",
   "execution_count": 238,
   "metadata": {},
   "outputs": [
    {
     "name": "stdout",
     "output_type": "stream",
     "text": [
      "sadness\n"
     ]
    }
   ],
   "source": [
    "if face_rec_mood in ['happiness']:\n",
    "    otherArm_Happy().start()\n",
    "    moveRobot('T_ROB_R','Happy')\n",
    "    print(face_rec_mood)\n",
    "if face_rec_mood in ['sadness']:\n",
    "    otherArm_Hug().start()\n",
    "    moveRobot('T_ROB_R','GiveMeAHug')\n",
    "    print(face_rec_mood)\n",
    "if face_rec_mood not in  ['sadness', 'happiness']:\n",
    "    moveRobot('T_ROB_R','SayHello') \n",
    "    print(face_rec_mood)"
   ]
  },
  {
   "cell_type": "code",
   "execution_count": null,
   "metadata": {
    "collapsed": true
   },
   "outputs": [],
   "source": []
  }
 ],
 "metadata": {
  "kernelspec": {
   "display_name": "Python 3",
   "language": "python",
   "name": "python3"
  },
  "language_info": {
   "codemirror_mode": {
    "name": "ipython",
    "version": 3
   },
   "file_extension": ".py",
   "mimetype": "text/x-python",
   "name": "python",
   "nbconvert_exporter": "python",
   "pygments_lexer": "ipython3",
   "version": "3.6.1"
  }
 },
 "nbformat": 4,
 "nbformat_minor": 2
}
